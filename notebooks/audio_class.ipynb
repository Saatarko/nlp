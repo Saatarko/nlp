{
 "cells": [
  {
   "cell_type": "code",
   "execution_count": 52,
   "id": "39511704-8bd1-4357-87f2-f62b2cff98bc",
   "metadata": {},
   "outputs": [],
   "source": [
    "import torch\n",
    "import torch.nn as nn\n",
    "from torch import optim\n",
    "import torch.nn.functional as F\n",
    "from torch.utils.data import Dataset, DataLoader\n",
    "from torch.nn.utils.rnn import pad_sequence\n",
    "import librosa\n",
    "import numpy as np\n",
    "import matplotlib.pyplot as plt\n",
    "import os\n",
    "import numpy as np\n",
    "import soundfile as sf\n",
    "import random\n",
    "import json\n",
    "import pandas as pd\n",
    "import ffmpeg\n",
    "from tqdm import tqdm\n",
    "from sklearn.model_selection import train_test_split\n",
    "from sklearn.metrics import confusion_matrix, ConfusionMatrixDisplay\n",
    "from glob import glob\n",
    "import kagglehub\n",
    "import shutil\n",
    "import os\n",
    "from multiprocessing import Pool, cpu_count\n",
    "from torch.nn.utils.rnn import pad_sequence\n",
    "from sklearn.ensemble import RandomForestClassifier\n",
    "from xgboost import XGBClassifier\n",
    "from sklearn.model_selection import train_test_split\n",
    "from sklearn.metrics import classification_report\n",
    "from panns_inference import AudioTagging\n",
    "from panns_inference.models import Cnn14\n",
    "import time\n",
    "import seaborn as sns"
   ]
  },
  {
   "cell_type": "code",
   "execution_count": 5,
   "id": "d752c06e-b919-4f77-b682-93af65219d38",
   "metadata": {
    "execution": {
     "iopub.execute_input": "2025-07-25T05:39:47.557427Z",
     "iopub.status.busy": "2025-07-25T05:39:47.556896Z",
     "iopub.status.idle": "2025-07-25T05:39:59.890707Z",
     "shell.execute_reply": "2025-07-25T05:39:59.890222Z",
     "shell.execute_reply.started": "2025-07-25T05:39:47.557405Z"
    }
   },
   "outputs": [
    {
     "name": "stdout",
     "output_type": "stream",
     "text": [
      "<function melspectrogram at 0x7fd1a2d01940>\n"
     ]
    }
   ],
   "source": [
    "import librosa\n",
    "print(librosa.feature.melspectrogram)"
   ]
  },
  {
   "cell_type": "code",
   "execution_count": 6,
   "id": "aee94de4-0e33-4b18-9e61-e0d928933023",
   "metadata": {
    "execution": {
     "iopub.execute_input": "2025-07-25T05:41:59.774528Z",
     "iopub.status.busy": "2025-07-25T05:41:59.773856Z",
     "iopub.status.idle": "2025-07-25T05:42:30.768983Z",
     "shell.execute_reply": "2025-07-25T05:42:30.768230Z",
     "shell.execute_reply.started": "2025-07-25T05:41:59.774504Z"
    }
   },
   "outputs": [
    {
     "name": "stdout",
     "output_type": "stream",
     "text": [
      "Downloading from https://www.kaggle.com/api/v1/datasets/download/andrewmvd/covid19-cough-audio-classification?dataset_version_number=1...\n"
     ]
    },
    {
     "name": "stderr",
     "output_type": "stream",
     "text": [
      "100%|██████████| 1.24G/1.24G [00:08<00:00, 150MB/s] "
     ]
    },
    {
     "name": "stdout",
     "output_type": "stream",
     "text": [
      "Extracting files...\n"
     ]
    },
    {
     "name": "stderr",
     "output_type": "stream",
     "text": [
      "\n"
     ]
    },
    {
     "name": "stdout",
     "output_type": "stream",
     "text": [
      "Dataset скопирован в: data\n"
     ]
    }
   ],
   "source": [
    "path = kagglehub.dataset_download(\"andrewmvd/covid19-cough-audio-classification\")\n",
    "\n",
    "target_dir = \"data\"\n",
    "\n",
    "# Создаём папку, если её нет\n",
    "os.makedirs(target_dir, exist_ok=True)\n",
    "\n",
    "# Копируем всё содержимое\n",
    "shutil.copytree(path, target_dir, dirs_exist_ok=True)\n",
    "\n",
    "print(f\"Dataset скопирован в: {target_dir}\")"
   ]
  },
  {
   "cell_type": "code",
   "execution_count": 3,
   "id": "b5e7998d-2fc7-4bd9-a5fd-f696f209ff0d",
   "metadata": {},
   "outputs": [],
   "source": [
    "def generate_labels_from_json(json_folder, threshold=0.7, save_csv_path=None):\n",
    "    \"\"\"\n",
    "    Проходит по json-файлам и формирует DataFrame с метками.\n",
    "\n",
    "    Args:\n",
    "        json_folder: путь к папке с json\n",
    "        threshold: порог для классификации (обычно 0.6 или 0.7)\n",
    "        save_csv_path: если задан, сохраняет метки в CSV\n",
    "\n",
    "    Returns:\n",
    "        DataFrame с колонками ['id', 'label']\n",
    "    \"\"\"\n",
    "    data = []\n",
    "\n",
    "    for fname in os.listdir(json_folder):\n",
    "        if not fname.endswith(\".json\"):\n",
    "            continue\n",
    "        \n",
    "        path = os.path.join(json_folder, fname)\n",
    "        try:\n",
    "            with open(path, \"r\") as f:\n",
    "                info = json.load(f)\n",
    "                cough_score = float(info.get(\"cough_detected\", 0.0))\n",
    "                label = 1 if cough_score >= threshold else 0\n",
    "                file_id = os.path.splitext(fname)[0]  # без расширения\n",
    "                data.append((file_id, label))\n",
    "        except Exception as e:\n",
    "            print(f\"❌ Ошибка при обработке {fname}: {e}\")\n",
    "    \n",
    "    df = pd.DataFrame(data, columns=[\"id\", \"label\"])\n",
    "\n",
    "    if save_csv_path:\n",
    "        df.to_csv(save_csv_path, index=False)\n",
    "        print(f\"✅ Метки сохранены в {save_csv_path}\")\n",
    "\n",
    "    return df\n"
   ]
  },
  {
   "cell_type": "code",
   "execution_count": 4,
   "id": "5cb6feed-48c9-4cf9-a616-28710deffb2e",
   "metadata": {},
   "outputs": [
    {
     "name": "stdout",
     "output_type": "stream",
     "text": [
      "✅ Метки сохранены в labels.csv\n",
      "label\n",
      "1    16242\n",
      "0    11308\n",
      "Name: count, dtype: int64\n"
     ]
    }
   ],
   "source": [
    "df = generate_labels_from_json(\"data\", threshold=0.7, save_csv_path=\"labels.csv\")\n",
    "\n",
    "# Посмотреть статистику классов\n",
    "print(df[\"label\"].value_counts())"
   ]
  },
  {
   "cell_type": "code",
   "execution_count": 6,
   "id": "1f701f75-8418-4fb3-9dc9-d039c8eddb08",
   "metadata": {},
   "outputs": [],
   "source": [
    "def convert_webm_to_wav(input_path, output_path):\n",
    "    try:\n",
    "        ffmpeg.input(input_path).output(output_path, ac=1, ar=16000).overwrite_output().run(quiet=True)\n",
    "        return True\n",
    "    except ffmpeg.Error as e:\n",
    "        print(f\"FFmpeg error: {e}\")\n",
    "        return False\n",
    "\n",
    "\n",
    "def preprocess_for_cnn(audio_path, sr=16000, n_mels=64, hop_length=256):\n",
    "    y, sr = librosa.load(audio_path, sr=sr)\n",
    "    if len(y) == 0:\n",
    "        raise ValueError(\"Пустой аудиофайл\")\n",
    "    mel_spec = librosa.feature.melspectrogram(y=y, sr=sr, n_mels=n_mels, hop_length=hop_length)\n",
    "    if np.isnan(mel_spec).any():\n",
    "        raise ValueError(\"Mel spectrogram содержит NaN\")\n",
    "    log_mel_spec = librosa.power_to_db(mel_spec, ref=np.max)\n",
    "    log_mel_spec_norm = (log_mel_spec - log_mel_spec.min()) / (log_mel_spec.max() - log_mel_spec.min() + 1e-6)\n",
    "    return log_mel_spec_norm[np.newaxis, :, :]\n",
    "\n",
    "\n",
    "def preprocess_for_lstm(audio_path, sr=16000, n_mfcc=40, hop_length=256):\n",
    "    y, sr = librosa.load(audio_path, sr=sr)\n",
    "    if len(y) == 0:\n",
    "        raise ValueError(\"Пустой аудиофайл\")\n",
    "    mfcc = librosa.feature.mfcc(y=y, sr=sr, n_mfcc=n_mfcc, hop_length=hop_length)\n",
    "    if np.isnan(mfcc).any():\n",
    "        raise ValueError(\"MFCC содержит NaN\")\n",
    "    mfcc_norm = (mfcc - mfcc.min()) / (mfcc.max() - mfcc.min() + 1e-6)\n",
    "    return mfcc_norm.T\n",
    "\n",
    "\n",
    "def process_single_sample(args):\n",
    "    uid, label, webm_dir, temp_wav_dir, output_dir_cnn, output_dir_lstm, cleanup = args\n",
    "    webm_path = os.path.join(webm_dir, uid + \".webm\")\n",
    "    wav_path = os.path.join(temp_wav_dir, uid + \".wav\")\n",
    "\n",
    "    if not os.path.exists(webm_path):\n",
    "        # print(f\"⚠️ Пропущен {uid}: нет .webm файла\")\n",
    "        return None\n",
    "\n",
    "    success = convert_webm_to_wav(webm_path, wav_path)\n",
    "    if not success:\n",
    "        return None\n",
    "\n",
    "    try:\n",
    "        cnn_tensor = preprocess_for_cnn(wav_path)\n",
    "        lstm_tensor = preprocess_for_lstm(wav_path)\n",
    "    except Exception as e:\n",
    "        # print(f\"⚠️ Ошибка при обработке {uid}: {e}\")\n",
    "        return None\n",
    "\n",
    "    cnn_out_path = os.path.join(output_dir_cnn, f\"{uid}_{label}.npy\")\n",
    "    lstm_out_path = os.path.join(output_dir_lstm, f\"{uid}_{label}.npy\")\n",
    "\n",
    "    np.save(cnn_out_path, cnn_tensor)\n",
    "    np.save(lstm_out_path, lstm_tensor)\n",
    "\n",
    "    if cleanup:\n",
    "        os.remove(wav_path)\n",
    "\n",
    "    return (cnn_out_path, lstm_out_path, label)\n",
    "\n",
    "\n",
    "def build_preprocessed_dataset_dual(\n",
    "    webm_dir, labels_csv, output_dir_cnn, output_dir_lstm, temp_wav_dir='temp_wavs', cleanup=True\n",
    "):\n",
    "    os.makedirs(output_dir_cnn, exist_ok=True)\n",
    "    os.makedirs(output_dir_lstm, exist_ok=True)\n",
    "    os.makedirs(temp_wav_dir, exist_ok=True)\n",
    "\n",
    "    df = pd.read_csv(labels_csv)\n",
    "    args_list = [\n",
    "        (row['id'], row['label'], webm_dir, temp_wav_dir, output_dir_cnn, output_dir_lstm, cleanup)\n",
    "        for _, row in df.iterrows()\n",
    "    ]\n",
    "\n",
    "    cpu_to_use = max(1, cpu_count() // 2)\n",
    "    print(f\"🧠 Используется {cpu_to_use} потоков из {cpu_count()} доступных ядер\")\n",
    "\n",
    "    cnn_paths, lstm_paths, labels = [], [], []\n",
    "    with Pool(cpu_to_use) as pool:\n",
    "        for result in tqdm(pool.imap_unordered(process_single_sample, args_list), total=len(args_list)):\n",
    "            if result is not None:\n",
    "                cnn_path, lstm_path, label = result\n",
    "                cnn_paths.append(cnn_path)\n",
    "                lstm_paths.append(lstm_path)\n",
    "                labels.append(label)\n",
    "\n",
    "    pd.DataFrame({\"path\": cnn_paths, \"label\": labels}).to_csv(os.path.join(output_dir_cnn, \"processed_labels.csv\"), index=False)\n",
    "    pd.DataFrame({\"path\": lstm_paths, \"label\": labels}).to_csv(os.path.join(output_dir_lstm, \"processed_labels.csv\"), index=False)\n",
    "\n",
    "    print(\"✅ Все аудиофайлы успешно обработаны параллельно для CNN и LSTM.\")"
   ]
  },
  {
   "cell_type": "code",
   "execution_count": 7,
   "id": "8c734c52-a0ef-424c-8904-80fdb36e17e1",
   "metadata": {
    "scrolled": true
   },
   "outputs": [
    {
     "name": "stdout",
     "output_type": "stream",
     "text": [
      "🧠 Используется 8 потоков из 16 доступных ядер\n"
     ]
    },
    {
     "name": "stderr",
     "output_type": "stream",
     "text": [
      "100%|████████████████████████████████████████████████████████████████████████████████████████████████████████████████████████████████████████████████████████████████████████████████████████████████████████████████████████████████████████████████████████████████| 27550/27550 [24:50<00:00, 18.49it/s]\n"
     ]
    },
    {
     "name": "stdout",
     "output_type": "stream",
     "text": [
      "✅ Все аудиофайлы успешно обработаны параллельно для CNN и LSTM.\n"
     ]
    }
   ],
   "source": [
    "build_preprocessed_dataset_dual(\n",
    "    webm_dir=\"data\",\n",
    "    labels_csv=\"labels.csv\",\n",
    "    output_dir_cnn=\"processed_cnn\",\n",
    "    output_dir_lstm=\"processed_lstm\"\n",
    ")"
   ]
  },
  {
   "cell_type": "code",
   "execution_count": 16,
   "id": "417ff233-913f-47f6-8bfe-1e7eb2488e4d",
   "metadata": {},
   "outputs": [],
   "source": [
    "BATCH_SIZE = 32\n",
    "NUM_EPOCHS = 20\n",
    "LR = 1e-3\n",
    "DEVICE = torch.device(\"cuda\" if torch.cuda.is_available() else \"cpu\")"
   ]
  },
  {
   "cell_type": "code",
   "execution_count": 32,
   "id": "052c256c-4701-4a5b-b825-2017b0de2534",
   "metadata": {},
   "outputs": [],
   "source": [
    "class SimpleAudioCNN(nn.Module):\n",
    "    def __init__(self, n_classes):\n",
    "        super().__init__()\n",
    "        self.conv1 = nn.Conv2d(1, 16, kernel_size=3, padding=1)\n",
    "        self.conv2 = nn.Conv2d(16, 32, kernel_size=3, padding=1)\n",
    "        self.pool = nn.MaxPool2d(2)\n",
    "        self.adaptive_pool = nn.AdaptiveAvgPool2d((8, 8))  # 💡 Гарантирует размер (B,32,8,8)\n",
    "        self.fc1 = nn.Linear(32 * 8 * 8, 128)\n",
    "        self.fc2 = nn.Linear(128, n_classes)\n",
    "\n",
    "    def forward(self, x):\n",
    "        x = self.pool(F.relu(self.conv1(x)))     # -> (B,16,H/2,W/2)\n",
    "        x = self.pool(F.relu(self.conv2(x)))     # -> (B,32,H/4,W/4)\n",
    "        x = self.adaptive_pool(x)                # -> (B,32,8,8)\n",
    "        x = torch.flatten(x, 1)                  # -> (B, 32*8*8)\n",
    "        x = F.relu(self.fc1(x))\n",
    "        x = self.fc2(x)\n",
    "        return x"
   ]
  },
  {
   "cell_type": "code",
   "execution_count": 2,
   "id": "e03876a9-f11a-4508-a1ac-d28f9d0f7e70",
   "metadata": {},
   "outputs": [],
   "source": [
    "class AudioDataset(Dataset):\n",
    "    def __init__(self, data_list):\n",
    "        self.data_list = data_list\n",
    "\n",
    "    def __len__(self):\n",
    "        return len(self.data_list)\n",
    "\n",
    "    def __getitem__(self, idx):\n",
    "        file_path, label = self.data_list[idx]\n",
    "        data = np.load(file_path)\n",
    "    \n",
    "        # Убедимся, что данные имеют форму (1, FREQ, TIME)\n",
    "        if data.ndim == 2:\n",
    "            data = np.expand_dims(data, axis=0)  # Добавим канал\n",
    "    \n",
    "        data_tensor = torch.tensor(data, dtype=torch.float32)\n",
    "        label_tensor = torch.tensor(label, dtype=torch.long)\n",
    "        return data_tensor, label_tensor\n"
   ]
  },
  {
   "cell_type": "code",
   "execution_count": 3,
   "id": "155da64e-ffd4-42ed-8665-dc0cd4ba6534",
   "metadata": {},
   "outputs": [],
   "source": [
    "# Построим список (путь, метка)\n",
    "def load_data_list(processed_dir):\n",
    "    data_list = []\n",
    "    for path in glob(os.path.join(processed_dir, \"*.npy\")):\n",
    "        filename = os.path.basename(path)\n",
    "        if \"_\" not in filename:\n",
    "            continue\n",
    "        label_str = filename.split(\"_\")[-1].split(\".\")[0]\n",
    "        label = int(label_str)\n",
    "        data_list.append((path, label))\n",
    "    return data_list"
   ]
  },
  {
   "cell_type": "code",
   "execution_count": 4,
   "id": "e688a9a0-47f5-4a31-b25f-7c384c28b82e",
   "metadata": {},
   "outputs": [],
   "source": [
    "def train(model, dataloader, optimizer, criterion, device):\n",
    "    model.train()\n",
    "    total_loss, total_correct, total_samples = 0, 0, 0\n",
    "    for x, y in dataloader:\n",
    "        x, y = x.to(device), y.to(device)\n",
    "        optimizer.zero_grad()\n",
    "        outputs = model(x)\n",
    "        loss = criterion(outputs, y)\n",
    "        loss.backward()\n",
    "        optimizer.step()\n",
    "\n",
    "        total_loss += loss.item() * x.size(0)\n",
    "        preds = outputs.argmax(dim=1)\n",
    "        total_correct += (preds == y).sum().item()\n",
    "        total_samples += x.size(0)\n",
    "    return total_loss / total_samples, total_correct / total_samples\n",
    "\n",
    "def evaluate(model, dataloader, criterion, device):\n",
    "    model.eval()\n",
    "    total_loss, total_correct, total_samples = 0, 0, 0\n",
    "    with torch.no_grad():\n",
    "        for x, y in dataloader:\n",
    "            x, y = x.to(device), y.to(device)\n",
    "            outputs = model(x)\n",
    "            loss = criterion(outputs, y)\n",
    "            total_loss += loss.item() * x.size(0)\n",
    "            preds = outputs.argmax(dim=1)\n",
    "            total_correct += (preds == y).sum().item()\n",
    "            total_samples += x.size(0)\n",
    "    return total_loss / total_samples, total_correct / total_samples"
   ]
  },
  {
   "cell_type": "code",
   "execution_count": 5,
   "id": "33184bec-5acd-4bc4-a3fb-7c82cedd06c6",
   "metadata": {},
   "outputs": [],
   "source": [
    "def collate_fn(batch):\n",
    "    tensors = [item[0] for item in batch]  # список тензоров (1, freq, time)\n",
    "    labels = torch.tensor([item[1] for item in batch])\n",
    "\n",
    "    # Найти максимальную длину по времени\n",
    "    max_len = max(t.shape[2] for t in tensors)\n",
    "\n",
    "    # Паддим все тензоры до max_len нулями по времени\n",
    "    padded_tensors = []\n",
    "    for t in tensors:\n",
    "        pad_len = max_len - t.shape[2]\n",
    "        if pad_len > 0:\n",
    "            # pad (0, pad_len) - значит добавить справа вдоль последнего измерения\n",
    "            padded = F.pad(t, (0, pad_len))\n",
    "        else:\n",
    "            padded = t\n",
    "        padded_tensors.append(padded)\n",
    "\n",
    "    batch_tensors = torch.stack(padded_tensors)\n",
    "    return batch_tensors, labels\n"
   ]
  },
  {
   "cell_type": "code",
   "execution_count": 13,
   "id": "fe74ddf8-448c-4f73-8dd0-91913b2031d8",
   "metadata": {},
   "outputs": [],
   "source": [
    "class MemoryAudioLSTM(nn.Module):\n",
    "    def __init__(self, input_freq_dim=40, lstm_input_size=40, hidden_size=128, num_layers=3, n_classes=10, bidirectional=True):\n",
    "        super().__init__()\n",
    "        self.freq_reducer = nn.Linear(input_freq_dim, lstm_input_size)\n",
    "        self.lstm = nn.LSTM(\n",
    "            input_size=lstm_input_size,\n",
    "            hidden_size=hidden_size,\n",
    "            num_layers=num_layers,\n",
    "            batch_first=True,\n",
    "            bidirectional=bidirectional,\n",
    "            dropout=0.3\n",
    "        )\n",
    "        self.fc = nn.Linear(hidden_size * (2 if bidirectional else 1), n_classes)\n",
    "\n",
    "    def forward(self, x):  # x: (batch, time, freq)\n",
    "        if x.dim() == 4:\n",
    "            x = x.squeeze(1)  # Убираем лишнюю размерность, если вдруг (B, 1, T, F)\n",
    "        # print(\"Input shape to forward:\", x.shape)  # должно быть (batch, time, freq)\n",
    "        x = self.freq_reducer(x)\n",
    "        out, _ = self.lstm(x)\n",
    "        out = out[:, -1, :]\n",
    "        out = self.fc(out)\n",
    "        return out"
   ]
  },
  {
   "cell_type": "code",
   "execution_count": 14,
   "id": "d999868d-1085-4b65-9070-9b7d5b3757c0",
   "metadata": {},
   "outputs": [],
   "source": [
    "def collate_fn_lstm(batch):\n",
    "    xs = [torch.tensor(item[0], dtype=torch.float32).squeeze() for item in batch]\n",
    "    ys = torch.tensor([item[1] for item in batch], dtype=torch.long)\n",
    "\n",
    "    # Паддинг по time (размерность 0)\n",
    "    xs_padded = pad_sequence(xs, batch_first=True, padding_value=0.0)  # (batch, max_time, freq)\n",
    "\n",
    "    return xs_padded, ys"
   ]
  },
  {
   "cell_type": "code",
   "execution_count": null,
   "id": "baf4ca3b-7f68-4757-bf1e-78df9c8f8649",
   "metadata": {},
   "outputs": [],
   "source": []
  },
  {
   "cell_type": "code",
   "execution_count": 33,
   "id": "6ebf3ecb-ebdb-4003-a389-088e1f500068",
   "metadata": {},
   "outputs": [],
   "source": [
    "MODEL_TYPE = \"cnn\"  # или \"cnn\"\n",
    "PROCESSED_DIR = \"processed_lstm\" if MODEL_TYPE == \"lstm\" else \"processed_cnn\"\n",
    "\n",
    "data_list = load_data_list(PROCESSED_DIR)\n",
    "train_list, val_list = train_test_split(data_list, test_size=0.2, random_state=42)\n",
    "\n",
    "train_dataset = AudioDataset(train_list)\n",
    "val_dataset = AudioDataset(val_list)\n",
    "\n",
    "train_loader = DataLoader(train_dataset, batch_size=1, shuffle=True, collate_fn=collate_fn)\n",
    "val_loader = DataLoader(val_dataset, batch_size=1, collate_fn=collate_fn)\n",
    "\n",
    "n_classes = len(set(label for _, label in data_list))\n",
    "\n",
    "if MODEL_TYPE == \"cnn\":\n",
    "    model = SimpleAudioCNN(n_classes=n_classes).to(DEVICE)\n",
    "else:\n",
    "    model = MemoryAudioLSTM(n_classes=n_classes).to(DEVICE)\n",
    "\n",
    "optimizer = torch.optim.AdamW(model.parameters(), lr=LR)\n",
    "criterion = nn.CrossEntropyLoss()"
   ]
  },
  {
   "cell_type": "code",
   "execution_count": 28,
   "id": "6518d0b1-3b51-4868-941a-94de2e53aa2e",
   "metadata": {},
   "outputs": [
    {
     "name": "stderr",
     "output_type": "stream",
     "text": [
      "Обучение:   5%|████████████▋                                                                                                                                                                                                                                                | 1/20 [01:03<20:07, 63.57s/it]"
     ]
    },
    {
     "name": "stdout",
     "output_type": "stream",
     "text": [
      "Epoch 1: Train Loss=0.2949, Acc=0.8752 | Val Loss=0.3115, Acc=0.8584\n"
     ]
    },
    {
     "name": "stderr",
     "output_type": "stream",
     "text": [
      "Обучение:  10%|█████████████████████████▎                                                                                                                                                                                                                                   | 2/20 [02:08<19:20, 64.45s/it]"
     ]
    },
    {
     "name": "stdout",
     "output_type": "stream",
     "text": [
      "Epoch 2: Train Loss=0.2820, Acc=0.8807 | Val Loss=0.2926, Acc=0.8713\n"
     ]
    },
    {
     "name": "stderr",
     "output_type": "stream",
     "text": [
      "Обучение:  15%|█████████████████████████████████████▉                                                                                                                                                                                                                       | 3/20 [03:12<18:09, 64.08s/it]"
     ]
    },
    {
     "name": "stdout",
     "output_type": "stream",
     "text": [
      "Epoch 3: Train Loss=0.2728, Acc=0.8850 | Val Loss=0.2704, Acc=0.8840\n"
     ]
    },
    {
     "name": "stderr",
     "output_type": "stream",
     "text": [
      "Обучение:  20%|██████████████████████████████████████████████████▌                                                                                                                                                                                                          | 4/20 [04:19<17:27, 65.46s/it]"
     ]
    },
    {
     "name": "stdout",
     "output_type": "stream",
     "text": [
      "Epoch 4: Train Loss=0.2643, Acc=0.8864 | Val Loss=0.2707, Acc=0.8878\n"
     ]
    },
    {
     "name": "stderr",
     "output_type": "stream",
     "text": [
      "Обучение:  25%|███████████████████████████████████████████████████████████████▎                                                                                                                                                                                             | 5/20 [05:20<15:54, 63.61s/it]"
     ]
    },
    {
     "name": "stdout",
     "output_type": "stream",
     "text": [
      "Epoch 5: Train Loss=0.2600, Acc=0.8914 | Val Loss=0.2580, Acc=0.8946\n"
     ]
    },
    {
     "name": "stderr",
     "output_type": "stream",
     "text": [
      "Обучение:  30%|███████████████████████████████████████████████████████████████████████████▉                                                                                                                                                                                 | 6/20 [06:20<14:36, 62.64s/it]"
     ]
    },
    {
     "name": "stdout",
     "output_type": "stream",
     "text": [
      "Epoch 6: Train Loss=0.2517, Acc=0.8934 | Val Loss=0.2502, Acc=0.8959\n"
     ]
    },
    {
     "name": "stderr",
     "output_type": "stream",
     "text": [
      "Обучение:  35%|████████████████████████████████████████████████████████████████████████████████████████▌                                                                                                                                                                    | 7/20 [07:19<13:18, 61.40s/it]"
     ]
    },
    {
     "name": "stdout",
     "output_type": "stream",
     "text": [
      "Epoch 7: Train Loss=0.2478, Acc=0.8941 | Val Loss=0.2522, Acc=0.8978\n"
     ]
    },
    {
     "name": "stderr",
     "output_type": "stream",
     "text": [
      "Обучение:  40%|█████████████████████████████████████████████████████████████████████████████████████████████████████▏                                                                                                                                                       | 8/20 [08:22<12:22, 61.87s/it]"
     ]
    },
    {
     "name": "stdout",
     "output_type": "stream",
     "text": [
      "Epoch 8: Train Loss=0.2502, Acc=0.8952 | Val Loss=0.2572, Acc=0.8921\n"
     ]
    },
    {
     "name": "stderr",
     "output_type": "stream",
     "text": [
      "Обучение:  45%|█████████████████████████████████████████████████████████████████████████████████████████████████████████████████▊                                                                                                                                           | 9/20 [09:25<11:22, 62.06s/it]"
     ]
    },
    {
     "name": "stdout",
     "output_type": "stream",
     "text": [
      "Epoch 9: Train Loss=0.2438, Acc=0.8977 | Val Loss=0.2420, Acc=0.9005\n"
     ]
    },
    {
     "name": "stderr",
     "output_type": "stream",
     "text": [
      "Обучение:  50%|██████████████████████████████████████████████████████████████████████████████████████████████████████████████████████████████                                                                                                                              | 10/20 [10:31<10:34, 63.43s/it]"
     ]
    },
    {
     "name": "stdout",
     "output_type": "stream",
     "text": [
      "Epoch 10: Train Loss=0.2404, Acc=0.8998 | Val Loss=0.2642, Acc=0.8899\n"
     ]
    },
    {
     "name": "stderr",
     "output_type": "stream",
     "text": [
      "Обучение:  55%|██████████████████████████████████████████████████████████████████████████████████████████████████████████████████████████████████████████▌                                                                                                                 | 11/20 [11:31<09:21, 62.38s/it]"
     ]
    },
    {
     "name": "stdout",
     "output_type": "stream",
     "text": [
      "Epoch 11: Train Loss=0.2391, Acc=0.8976 | Val Loss=0.2571, Acc=0.8913\n"
     ]
    },
    {
     "name": "stderr",
     "output_type": "stream",
     "text": [
      "Обучение:  60%|███████████████████████████████████████████████████████████████████████████████████████████████████████████████████████████████████████████████████████▏                                                                                                    | 12/20 [12:31<08:12, 61.59s/it]"
     ]
    },
    {
     "name": "stdout",
     "output_type": "stream",
     "text": [
      "Epoch 12: Train Loss=0.2359, Acc=0.9012 | Val Loss=0.2603, Acc=0.8971\n"
     ]
    },
    {
     "name": "stderr",
     "output_type": "stream",
     "text": [
      "Обучение:  65%|███████████████████████████████████████████████████████████████████████████████████████████████████████████████████████████████████████████████████████████████████▊                                                                                        | 13/20 [13:35<07:16, 62.36s/it]"
     ]
    },
    {
     "name": "stdout",
     "output_type": "stream",
     "text": [
      "Epoch 13: Train Loss=0.2351, Acc=0.9025 | Val Loss=0.2554, Acc=0.8924\n"
     ]
    },
    {
     "name": "stderr",
     "output_type": "stream",
     "text": [
      "Обучение:  70%|████████████████████████████████████████████████████████████████████████████████████████████████████████████████████████████████████████████████████████████████████████████████▍                                                                           | 14/20 [14:37<06:13, 62.31s/it]"
     ]
    },
    {
     "name": "stdout",
     "output_type": "stream",
     "text": [
      "Epoch 14: Train Loss=0.2384, Acc=0.8990 | Val Loss=0.2961, Acc=0.8838\n"
     ]
    },
    {
     "name": "stderr",
     "output_type": "stream",
     "text": [
      "Обучение:  75%|█████████████████████████████████████████████████████████████████████████████████████████████████████████████████████████████████████████████████████████████████████████████████████████████                                                               | 15/20 [15:38<05:09, 61.81s/it]"
     ]
    },
    {
     "name": "stdout",
     "output_type": "stream",
     "text": [
      "Epoch 15: Train Loss=0.2378, Acc=0.8987 | Val Loss=0.2424, Acc=0.8997\n"
     ]
    },
    {
     "name": "stderr",
     "output_type": "stream",
     "text": [
      "Обучение:  80%|█████████████████████████████████████████████████████████████████████████████████████████████████████████████████████████████████████████████████████████████████████████████████████████████████████████▌                                                  | 16/20 [16:47<04:15, 63.92s/it]"
     ]
    },
    {
     "name": "stdout",
     "output_type": "stream",
     "text": [
      "Epoch 16: Train Loss=0.2349, Acc=0.9008 | Val Loss=0.2543, Acc=0.8928\n"
     ]
    },
    {
     "name": "stderr",
     "output_type": "stream",
     "text": [
      "Обучение:  85%|██████████████████████████████████████████████████████████████████████████████████████████████████████████████████████████████████████████████████████████████████████████████████████████████████████████████████████▏                                     | 17/20 [17:47<03:08, 62.96s/it]"
     ]
    },
    {
     "name": "stdout",
     "output_type": "stream",
     "text": [
      "Epoch 17: Train Loss=0.2319, Acc=0.9024 | Val Loss=0.2457, Acc=0.9003\n"
     ]
    },
    {
     "name": "stderr",
     "output_type": "stream",
     "text": [
      "Обучение:  90%|██████████████████████████████████████████████████████████████████████████████████████████████████████████████████████████████████████████████████████████████████████████████████████████████████████████████████████████████████▊                         | 18/20 [18:51<02:06, 63.08s/it]"
     ]
    },
    {
     "name": "stdout",
     "output_type": "stream",
     "text": [
      "Epoch 18: Train Loss=0.2330, Acc=0.9026 | Val Loss=0.2504, Acc=0.8921\n"
     ]
    },
    {
     "name": "stderr",
     "output_type": "stream",
     "text": [
      "Обучение:  95%|███████████████████████████████████████████████████████████████████████████████████████████████████████████████████████████████████████████████████████████████████████████████████████████████████████████████████████████████████████████████▍            | 19/20 [19:46<01:00, 60.63s/it]"
     ]
    },
    {
     "name": "stdout",
     "output_type": "stream",
     "text": [
      "Epoch 19: Train Loss=0.2294, Acc=0.9032 | Val Loss=0.2592, Acc=0.8913\n"
     ]
    },
    {
     "name": "stderr",
     "output_type": "stream",
     "text": [
      "Обучение: 100%|████████████████████████████████████████████████████████████████████████████████████████████████████████████████████████████████████████████████████████████████████████████████████████████████████████████████████████████████████████████████████████████| 20/20 [20:47<00:00, 62.40s/it]"
     ]
    },
    {
     "name": "stdout",
     "output_type": "stream",
     "text": [
      "Epoch 20: Train Loss=0.2288, Acc=0.9039 | Val Loss=0.2603, Acc=0.8928\n",
      "✅ Обучение CNN завершено. Лучшая модель сохранена в best_audio_cnn.pth\n"
     ]
    },
    {
     "name": "stderr",
     "output_type": "stream",
     "text": [
      "\n"
     ]
    }
   ],
   "source": [
    "best_val_acc = 0.0\n",
    "for epoch in tqdm(range(NUM_EPOCHS), desc=\"Обучение\"):\n",
    "    train_loss, train_acc = train(model, train_loader, optimizer, criterion, DEVICE)\n",
    "    val_loss, val_acc = evaluate(model, val_loader, criterion, DEVICE)\n",
    "\n",
    "    if val_acc > best_val_acc:\n",
    "        best_val_acc = val_acc\n",
    "        torch.save(model.state_dict(), f\"best_audio_{MODEL_TYPE}.pth\")\n",
    "\n",
    "    print(f\"Epoch {epoch+1}: \"\n",
    "          f\"Train Loss={train_loss:.4f}, Acc={train_acc:.4f} | \"\n",
    "          f\"Val Loss={val_loss:.4f}, Acc={val_acc:.4f}\")\n",
    "\n",
    "print(f\"✅ Обучение {MODEL_TYPE.upper()} завершено. \"\n",
    "      f\"Лучшая модель сохранена в best_audio_{MODEL_TYPE}.pth\")\n"
   ]
  },
  {
   "cell_type": "code",
   "execution_count": 29,
   "id": "522f3dc0-b983-4bfa-9804-2cdf9ea7d256",
   "metadata": {},
   "outputs": [
    {
     "data": {
      "image/png": "[encoded data removed]",
      "text/plain": [
       "<Figure size 640x480 with 2 Axes>"
      ]
     },
     "metadata": {},
     "output_type": "display_data"
    }
   ],
   "source": [
    "all_preds = []\n",
    "all_labels = []\n",
    "\n",
    "model.eval()\n",
    "with torch.no_grad():\n",
    "    for x, y in val_loader:\n",
    "        x = x.to(DEVICE)\n",
    "        outputs = model(x)\n",
    "        preds = outputs.argmax(dim=1).cpu().numpy()\n",
    "        all_preds.extend(preds)\n",
    "        all_labels.extend(y.numpy())\n",
    "\n",
    "# Матрица ошибок\n",
    "cm = confusion_matrix(all_labels, all_preds)\n",
    "disp = ConfusionMatrixDisplay(confusion_matrix=cm)\n",
    "disp.plot(cmap=\"Blues\", values_format='d')\n",
    "plt.title(\"Confusion Matrix (Validation Set)\")\n",
    "plt.show()"
   ]
  },
  {
   "cell_type": "code",
   "execution_count": null,
   "id": "cc4ecfaf-12f9-468b-8b1a-ece4359fd103",
   "metadata": {},
   "outputs": [],
   "source": []
  },
  {
   "cell_type": "code",
   "execution_count": null,
   "id": "2dbc93e9-a57e-4e88-b0e9-8652f25cfd00",
   "metadata": {},
   "outputs": [],
   "source": []
  },
  {
   "cell_type": "code",
   "execution_count": 15,
   "id": "0889229a-7b47-4ebf-ba66-14c945ed0115",
   "metadata": {},
   "outputs": [],
   "source": []
  },
  {
   "cell_type": "code",
   "execution_count": 17,
   "id": "b114489e-6939-4c5d-aa2b-c138a3960803",
   "metadata": {},
   "outputs": [],
   "source": [
    "MODEL_TYPE = \"lstm\"  # или \"cnn\"\n",
    "PROCESSED_DIR = \"processed_lstm\" if MODEL_TYPE == \"lstm\" else \"processed_cnn\"\n",
    "\n",
    "data_list = load_data_list(PROCESSED_DIR)\n",
    "train_list, val_list = train_test_split(data_list, test_size=0.2, random_state=42)\n",
    "\n",
    "train_dataset = AudioDataset(train_list)\n",
    "val_dataset = AudioDataset(val_list)\n",
    "\n",
    "if MODEL_TYPE == \"cnn\":\n",
    "    train_loader = DataLoader(train_dataset, batch_size=1, shuffle=True, collate_fn=collate_fn)\n",
    "    val_loader = DataLoader(val_dataset, batch_size=1, collate_fn=collate_fn)\n",
    "else:\n",
    "    train_loader = DataLoader(train_dataset, batch_size=1, shuffle=True, collate_fn=collate_fn_lstm)\n",
    "    val_loader = DataLoader(val_dataset, batch_size=1, collate_fn=collate_fn_lstm)\n",
    "\n",
    "n_classes = len(set(label for _, label in data_list))\n",
    "\n",
    "if MODEL_TYPE == \"cnn\":\n",
    "    model_2 = SimpleAudioCNN(n_classes=n_classes).to(DEVICE)\n",
    "else:\n",
    "    model_2 = MemoryAudioLSTM(n_classes=n_classes).to(DEVICE)\n",
    "\n",
    "optimizer = torch.optim.AdamW(model_2.parameters(), lr=LR)\n",
    "criterion = nn.CrossEntropyLoss()"
   ]
  },
  {
   "cell_type": "code",
   "execution_count": 18,
   "id": "807f5abe-b9e0-4054-bfe9-e2d0cab40c5a",
   "metadata": {
    "scrolled": true
   },
   "outputs": [
    {
     "name": "stderr",
     "output_type": "stream",
     "text": [
      "Обучение:   0%|                                                                                                                                                                                                                                                                     | 0/20 [00:00<?, ?it/s]/tmp/ipykernel_9982/148902708.py:2: UserWarning: To copy construct from a tensor, it is recommended to use sourceTensor.clone().detach() or sourceTensor.clone().detach().requires_grad_(True), rather than torch.tensor(sourceTensor).\n",
      "  xs = [torch.tensor(item[0], dtype=torch.float32).squeeze() for item in batch]\n",
      "Обучение:   0%|                                                                                                                                                                                                                                                                     | 0/20 [00:06<?, ?it/s]\n"
     ]
    },
    {
     "ename": "KeyboardInterrupt",
     "evalue": "",
     "output_type": "error",
     "traceback": [
      "\u001b[0;31m---------------------------------------------------------------------------\u001b[0m",
      "\u001b[0;31mKeyboardInterrupt\u001b[0m                         Traceback (most recent call last)",
      "Cell \u001b[0;32mIn[18], line 3\u001b[0m\n\u001b[1;32m      1\u001b[0m best_val_acc \u001b[38;5;241m=\u001b[39m \u001b[38;5;241m0.0\u001b[39m\n\u001b[1;32m      2\u001b[0m \u001b[38;5;28;01mfor\u001b[39;00m epoch \u001b[38;5;129;01min\u001b[39;00m tqdm(\u001b[38;5;28mrange\u001b[39m(NUM_EPOCHS), desc\u001b[38;5;241m=\u001b[39m\u001b[38;5;124m\"\u001b[39m\u001b[38;5;124mОбучение\u001b[39m\u001b[38;5;124m\"\u001b[39m):\n\u001b[0;32m----> 3\u001b[0m     train_loss, train_acc \u001b[38;5;241m=\u001b[39m \u001b[43mtrain\u001b[49m\u001b[43m(\u001b[49m\u001b[43mmodel_2\u001b[49m\u001b[43m,\u001b[49m\u001b[43m \u001b[49m\u001b[43mtrain_loader\u001b[49m\u001b[43m,\u001b[49m\u001b[43m \u001b[49m\u001b[43moptimizer\u001b[49m\u001b[43m,\u001b[49m\u001b[43m \u001b[49m\u001b[43mcriterion\u001b[49m\u001b[43m,\u001b[49m\u001b[43m \u001b[49m\u001b[43mDEVICE\u001b[49m\u001b[43m)\u001b[49m\n\u001b[1;32m      4\u001b[0m     val_loss, val_acc \u001b[38;5;241m=\u001b[39m evaluate(model_2, val_loader, criterion, DEVICE)\n\u001b[1;32m      6\u001b[0m     \u001b[38;5;28;01mif\u001b[39;00m val_acc \u001b[38;5;241m>\u001b[39m best_val_acc:\n",
      "Cell \u001b[0;32mIn[4], line 10\u001b[0m, in \u001b[0;36mtrain\u001b[0;34m(model, dataloader, optimizer, criterion, device)\u001b[0m\n\u001b[1;32m      8\u001b[0m loss \u001b[38;5;241m=\u001b[39m criterion(outputs, y)\n\u001b[1;32m      9\u001b[0m loss\u001b[38;5;241m.\u001b[39mbackward()\n\u001b[0;32m---> 10\u001b[0m \u001b[43moptimizer\u001b[49m\u001b[38;5;241;43m.\u001b[39;49m\u001b[43mstep\u001b[49m\u001b[43m(\u001b[49m\u001b[43m)\u001b[49m\n\u001b[1;32m     12\u001b[0m total_loss \u001b[38;5;241m+\u001b[39m\u001b[38;5;241m=\u001b[39m loss\u001b[38;5;241m.\u001b[39mitem() \u001b[38;5;241m*\u001b[39m x\u001b[38;5;241m.\u001b[39msize(\u001b[38;5;241m0\u001b[39m)\n\u001b[1;32m     13\u001b[0m preds \u001b[38;5;241m=\u001b[39m outputs\u001b[38;5;241m.\u001b[39margmax(dim\u001b[38;5;241m=\u001b[39m\u001b[38;5;241m1\u001b[39m)\n",
      "File \u001b[0;32m~/anaconda3/envs/myenv/lib/python3.10/site-packages/torch/optim/optimizer.py:487\u001b[0m, in \u001b[0;36mOptimizer.profile_hook_step.<locals>.wrapper\u001b[0;34m(*args, **kwargs)\u001b[0m\n\u001b[1;32m    482\u001b[0m         \u001b[38;5;28;01melse\u001b[39;00m:\n\u001b[1;32m    483\u001b[0m             \u001b[38;5;28;01mraise\u001b[39;00m \u001b[38;5;167;01mRuntimeError\u001b[39;00m(\n\u001b[1;32m    484\u001b[0m                 \u001b[38;5;124mf\u001b[39m\u001b[38;5;124m\"\u001b[39m\u001b[38;5;132;01m{\u001b[39;00mfunc\u001b[38;5;132;01m}\u001b[39;00m\u001b[38;5;124m must return None or a tuple of (new_args, new_kwargs), but got \u001b[39m\u001b[38;5;132;01m{\u001b[39;00mresult\u001b[38;5;132;01m}\u001b[39;00m\u001b[38;5;124m.\u001b[39m\u001b[38;5;124m\"\u001b[39m\n\u001b[1;32m    485\u001b[0m             )\n\u001b[0;32m--> 487\u001b[0m out \u001b[38;5;241m=\u001b[39m \u001b[43mfunc\u001b[49m\u001b[43m(\u001b[49m\u001b[38;5;241;43m*\u001b[39;49m\u001b[43margs\u001b[49m\u001b[43m,\u001b[49m\u001b[43m \u001b[49m\u001b[38;5;241;43m*\u001b[39;49m\u001b[38;5;241;43m*\u001b[39;49m\u001b[43mkwargs\u001b[49m\u001b[43m)\u001b[49m\n\u001b[1;32m    488\u001b[0m \u001b[38;5;28mself\u001b[39m\u001b[38;5;241m.\u001b[39m_optimizer_step_code()\n\u001b[1;32m    490\u001b[0m \u001b[38;5;66;03m# call optimizer step post hooks\u001b[39;00m\n",
      "File \u001b[0;32m~/anaconda3/envs/myenv/lib/python3.10/site-packages/torch/optim/optimizer.py:91\u001b[0m, in \u001b[0;36m_use_grad_for_differentiable.<locals>._use_grad\u001b[0;34m(self, *args, **kwargs)\u001b[0m\n\u001b[1;32m     89\u001b[0m     torch\u001b[38;5;241m.\u001b[39mset_grad_enabled(\u001b[38;5;28mself\u001b[39m\u001b[38;5;241m.\u001b[39mdefaults[\u001b[38;5;124m\"\u001b[39m\u001b[38;5;124mdifferentiable\u001b[39m\u001b[38;5;124m\"\u001b[39m])\n\u001b[1;32m     90\u001b[0m     torch\u001b[38;5;241m.\u001b[39m_dynamo\u001b[38;5;241m.\u001b[39mgraph_break()\n\u001b[0;32m---> 91\u001b[0m     ret \u001b[38;5;241m=\u001b[39m \u001b[43mfunc\u001b[49m\u001b[43m(\u001b[49m\u001b[38;5;28;43mself\u001b[39;49m\u001b[43m,\u001b[49m\u001b[43m \u001b[49m\u001b[38;5;241;43m*\u001b[39;49m\u001b[43margs\u001b[49m\u001b[43m,\u001b[49m\u001b[43m \u001b[49m\u001b[38;5;241;43m*\u001b[39;49m\u001b[38;5;241;43m*\u001b[39;49m\u001b[43mkwargs\u001b[49m\u001b[43m)\u001b[49m\n\u001b[1;32m     92\u001b[0m \u001b[38;5;28;01mfinally\u001b[39;00m:\n\u001b[1;32m     93\u001b[0m     torch\u001b[38;5;241m.\u001b[39m_dynamo\u001b[38;5;241m.\u001b[39mgraph_break()\n",
      "File \u001b[0;32m~/anaconda3/envs/myenv/lib/python3.10/site-packages/torch/optim/adamw.py:220\u001b[0m, in \u001b[0;36mAdamW.step\u001b[0;34m(self, closure)\u001b[0m\n\u001b[1;32m    207\u001b[0m     beta1, beta2 \u001b[38;5;241m=\u001b[39m cast(Tuple[\u001b[38;5;28mfloat\u001b[39m, \u001b[38;5;28mfloat\u001b[39m], group[\u001b[38;5;124m\"\u001b[39m\u001b[38;5;124mbetas\u001b[39m\u001b[38;5;124m\"\u001b[39m])\n\u001b[1;32m    209\u001b[0m     has_complex \u001b[38;5;241m=\u001b[39m \u001b[38;5;28mself\u001b[39m\u001b[38;5;241m.\u001b[39m_init_group(\n\u001b[1;32m    210\u001b[0m         group,\n\u001b[1;32m    211\u001b[0m         params_with_grad,\n\u001b[0;32m   (...)\u001b[0m\n\u001b[1;32m    217\u001b[0m         state_steps,\n\u001b[1;32m    218\u001b[0m     )\n\u001b[0;32m--> 220\u001b[0m     \u001b[43madamw\u001b[49m\u001b[43m(\u001b[49m\n\u001b[1;32m    221\u001b[0m \u001b[43m        \u001b[49m\u001b[43mparams_with_grad\u001b[49m\u001b[43m,\u001b[49m\n\u001b[1;32m    222\u001b[0m \u001b[43m        \u001b[49m\u001b[43mgrads\u001b[49m\u001b[43m,\u001b[49m\n\u001b[1;32m    223\u001b[0m \u001b[43m        \u001b[49m\u001b[43mexp_avgs\u001b[49m\u001b[43m,\u001b[49m\n\u001b[1;32m    224\u001b[0m \u001b[43m        \u001b[49m\u001b[43mexp_avg_sqs\u001b[49m\u001b[43m,\u001b[49m\n\u001b[1;32m    225\u001b[0m \u001b[43m        \u001b[49m\u001b[43mmax_exp_avg_sqs\u001b[49m\u001b[43m,\u001b[49m\n\u001b[1;32m    226\u001b[0m \u001b[43m        \u001b[49m\u001b[43mstate_steps\u001b[49m\u001b[43m,\u001b[49m\n\u001b[1;32m    227\u001b[0m \u001b[43m        \u001b[49m\u001b[43mamsgrad\u001b[49m\u001b[38;5;241;43m=\u001b[39;49m\u001b[43mamsgrad\u001b[49m\u001b[43m,\u001b[49m\n\u001b[1;32m    228\u001b[0m \u001b[43m        \u001b[49m\u001b[43mbeta1\u001b[49m\u001b[38;5;241;43m=\u001b[39;49m\u001b[43mbeta1\u001b[49m\u001b[43m,\u001b[49m\n\u001b[1;32m    229\u001b[0m \u001b[43m        \u001b[49m\u001b[43mbeta2\u001b[49m\u001b[38;5;241;43m=\u001b[39;49m\u001b[43mbeta2\u001b[49m\u001b[43m,\u001b[49m\n\u001b[1;32m    230\u001b[0m \u001b[43m        \u001b[49m\u001b[43mlr\u001b[49m\u001b[38;5;241;43m=\u001b[39;49m\u001b[43mgroup\u001b[49m\u001b[43m[\u001b[49m\u001b[38;5;124;43m\"\u001b[39;49m\u001b[38;5;124;43mlr\u001b[39;49m\u001b[38;5;124;43m\"\u001b[39;49m\u001b[43m]\u001b[49m\u001b[43m,\u001b[49m\n\u001b[1;32m    231\u001b[0m \u001b[43m        \u001b[49m\u001b[43mweight_decay\u001b[49m\u001b[38;5;241;43m=\u001b[39;49m\u001b[43mgroup\u001b[49m\u001b[43m[\u001b[49m\u001b[38;5;124;43m\"\u001b[39;49m\u001b[38;5;124;43mweight_decay\u001b[39;49m\u001b[38;5;124;43m\"\u001b[39;49m\u001b[43m]\u001b[49m\u001b[43m,\u001b[49m\n\u001b[1;32m    232\u001b[0m \u001b[43m        \u001b[49m\u001b[43meps\u001b[49m\u001b[38;5;241;43m=\u001b[39;49m\u001b[43mgroup\u001b[49m\u001b[43m[\u001b[49m\u001b[38;5;124;43m\"\u001b[39;49m\u001b[38;5;124;43meps\u001b[39;49m\u001b[38;5;124;43m\"\u001b[39;49m\u001b[43m]\u001b[49m\u001b[43m,\u001b[49m\n\u001b[1;32m    233\u001b[0m \u001b[43m        \u001b[49m\u001b[43mmaximize\u001b[49m\u001b[38;5;241;43m=\u001b[39;49m\u001b[43mgroup\u001b[49m\u001b[43m[\u001b[49m\u001b[38;5;124;43m\"\u001b[39;49m\u001b[38;5;124;43mmaximize\u001b[39;49m\u001b[38;5;124;43m\"\u001b[39;49m\u001b[43m]\u001b[49m\u001b[43m,\u001b[49m\n\u001b[1;32m    234\u001b[0m \u001b[43m        \u001b[49m\u001b[43mforeach\u001b[49m\u001b[38;5;241;43m=\u001b[39;49m\u001b[43mgroup\u001b[49m\u001b[43m[\u001b[49m\u001b[38;5;124;43m\"\u001b[39;49m\u001b[38;5;124;43mforeach\u001b[39;49m\u001b[38;5;124;43m\"\u001b[39;49m\u001b[43m]\u001b[49m\u001b[43m,\u001b[49m\n\u001b[1;32m    235\u001b[0m \u001b[43m        \u001b[49m\u001b[43mcapturable\u001b[49m\u001b[38;5;241;43m=\u001b[39;49m\u001b[43mgroup\u001b[49m\u001b[43m[\u001b[49m\u001b[38;5;124;43m\"\u001b[39;49m\u001b[38;5;124;43mcapturable\u001b[39;49m\u001b[38;5;124;43m\"\u001b[39;49m\u001b[43m]\u001b[49m\u001b[43m,\u001b[49m\n\u001b[1;32m    236\u001b[0m \u001b[43m        \u001b[49m\u001b[43mdifferentiable\u001b[49m\u001b[38;5;241;43m=\u001b[39;49m\u001b[43mgroup\u001b[49m\u001b[43m[\u001b[49m\u001b[38;5;124;43m\"\u001b[39;49m\u001b[38;5;124;43mdifferentiable\u001b[39;49m\u001b[38;5;124;43m\"\u001b[39;49m\u001b[43m]\u001b[49m\u001b[43m,\u001b[49m\n\u001b[1;32m    237\u001b[0m \u001b[43m        \u001b[49m\u001b[43mfused\u001b[49m\u001b[38;5;241;43m=\u001b[39;49m\u001b[43mgroup\u001b[49m\u001b[43m[\u001b[49m\u001b[38;5;124;43m\"\u001b[39;49m\u001b[38;5;124;43mfused\u001b[39;49m\u001b[38;5;124;43m\"\u001b[39;49m\u001b[43m]\u001b[49m\u001b[43m,\u001b[49m\n\u001b[1;32m    238\u001b[0m \u001b[43m        \u001b[49m\u001b[43mgrad_scale\u001b[49m\u001b[38;5;241;43m=\u001b[39;49m\u001b[38;5;28;43mgetattr\u001b[39;49m\u001b[43m(\u001b[49m\u001b[38;5;28;43mself\u001b[39;49m\u001b[43m,\u001b[49m\u001b[43m \u001b[49m\u001b[38;5;124;43m\"\u001b[39;49m\u001b[38;5;124;43mgrad_scale\u001b[39;49m\u001b[38;5;124;43m\"\u001b[39;49m\u001b[43m,\u001b[49m\u001b[43m \u001b[49m\u001b[38;5;28;43;01mNone\u001b[39;49;00m\u001b[43m)\u001b[49m\u001b[43m,\u001b[49m\n\u001b[1;32m    239\u001b[0m \u001b[43m        \u001b[49m\u001b[43mfound_inf\u001b[49m\u001b[38;5;241;43m=\u001b[39;49m\u001b[38;5;28;43mgetattr\u001b[39;49m\u001b[43m(\u001b[49m\u001b[38;5;28;43mself\u001b[39;49m\u001b[43m,\u001b[49m\u001b[43m \u001b[49m\u001b[38;5;124;43m\"\u001b[39;49m\u001b[38;5;124;43mfound_inf\u001b[39;49m\u001b[38;5;124;43m\"\u001b[39;49m\u001b[43m,\u001b[49m\u001b[43m \u001b[49m\u001b[38;5;28;43;01mNone\u001b[39;49;00m\u001b[43m)\u001b[49m\u001b[43m,\u001b[49m\n\u001b[1;32m    240\u001b[0m \u001b[43m        \u001b[49m\u001b[43mhas_complex\u001b[49m\u001b[38;5;241;43m=\u001b[39;49m\u001b[43mhas_complex\u001b[49m\u001b[43m,\u001b[49m\n\u001b[1;32m    241\u001b[0m \u001b[43m    \u001b[49m\u001b[43m)\u001b[49m\n\u001b[1;32m    243\u001b[0m \u001b[38;5;28;01mreturn\u001b[39;00m loss\n",
      "File \u001b[0;32m~/anaconda3/envs/myenv/lib/python3.10/site-packages/torch/optim/optimizer.py:154\u001b[0m, in \u001b[0;36m_disable_dynamo_if_unsupported.<locals>.wrapper.<locals>.maybe_fallback\u001b[0;34m(*args, **kwargs)\u001b[0m\n\u001b[1;32m    152\u001b[0m     \u001b[38;5;28;01mreturn\u001b[39;00m disabled_func(\u001b[38;5;241m*\u001b[39margs, \u001b[38;5;241m*\u001b[39m\u001b[38;5;241m*\u001b[39mkwargs)\n\u001b[1;32m    153\u001b[0m \u001b[38;5;28;01melse\u001b[39;00m:\n\u001b[0;32m--> 154\u001b[0m     \u001b[38;5;28;01mreturn\u001b[39;00m \u001b[43mfunc\u001b[49m\u001b[43m(\u001b[49m\u001b[38;5;241;43m*\u001b[39;49m\u001b[43margs\u001b[49m\u001b[43m,\u001b[49m\u001b[43m \u001b[49m\u001b[38;5;241;43m*\u001b[39;49m\u001b[38;5;241;43m*\u001b[39;49m\u001b[43mkwargs\u001b[49m\u001b[43m)\u001b[49m\n",
      "File \u001b[0;32m~/anaconda3/envs/myenv/lib/python3.10/site-packages/torch/optim/adamw.py:782\u001b[0m, in \u001b[0;36madamw\u001b[0;34m(params, grads, exp_avgs, exp_avg_sqs, max_exp_avg_sqs, state_steps, foreach, capturable, differentiable, fused, grad_scale, found_inf, has_complex, amsgrad, beta1, beta2, lr, weight_decay, eps, maximize)\u001b[0m\n\u001b[1;32m    779\u001b[0m \u001b[38;5;28;01melse\u001b[39;00m:\n\u001b[1;32m    780\u001b[0m     func \u001b[38;5;241m=\u001b[39m _single_tensor_adamw\n\u001b[0;32m--> 782\u001b[0m \u001b[43mfunc\u001b[49m\u001b[43m(\u001b[49m\n\u001b[1;32m    783\u001b[0m \u001b[43m    \u001b[49m\u001b[43mparams\u001b[49m\u001b[43m,\u001b[49m\n\u001b[1;32m    784\u001b[0m \u001b[43m    \u001b[49m\u001b[43mgrads\u001b[49m\u001b[43m,\u001b[49m\n\u001b[1;32m    785\u001b[0m \u001b[43m    \u001b[49m\u001b[43mexp_avgs\u001b[49m\u001b[43m,\u001b[49m\n\u001b[1;32m    786\u001b[0m \u001b[43m    \u001b[49m\u001b[43mexp_avg_sqs\u001b[49m\u001b[43m,\u001b[49m\n\u001b[1;32m    787\u001b[0m \u001b[43m    \u001b[49m\u001b[43mmax_exp_avg_sqs\u001b[49m\u001b[43m,\u001b[49m\n\u001b[1;32m    788\u001b[0m \u001b[43m    \u001b[49m\u001b[43mstate_steps\u001b[49m\u001b[43m,\u001b[49m\n\u001b[1;32m    789\u001b[0m \u001b[43m    \u001b[49m\u001b[43mamsgrad\u001b[49m\u001b[38;5;241;43m=\u001b[39;49m\u001b[43mamsgrad\u001b[49m\u001b[43m,\u001b[49m\n\u001b[1;32m    790\u001b[0m \u001b[43m    \u001b[49m\u001b[43mbeta1\u001b[49m\u001b[38;5;241;43m=\u001b[39;49m\u001b[43mbeta1\u001b[49m\u001b[43m,\u001b[49m\n\u001b[1;32m    791\u001b[0m \u001b[43m    \u001b[49m\u001b[43mbeta2\u001b[49m\u001b[38;5;241;43m=\u001b[39;49m\u001b[43mbeta2\u001b[49m\u001b[43m,\u001b[49m\n\u001b[1;32m    792\u001b[0m \u001b[43m    \u001b[49m\u001b[43mlr\u001b[49m\u001b[38;5;241;43m=\u001b[39;49m\u001b[43mlr\u001b[49m\u001b[43m,\u001b[49m\n\u001b[1;32m    793\u001b[0m \u001b[43m    \u001b[49m\u001b[43mweight_decay\u001b[49m\u001b[38;5;241;43m=\u001b[39;49m\u001b[43mweight_decay\u001b[49m\u001b[43m,\u001b[49m\n\u001b[1;32m    794\u001b[0m \u001b[43m    \u001b[49m\u001b[43meps\u001b[49m\u001b[38;5;241;43m=\u001b[39;49m\u001b[43meps\u001b[49m\u001b[43m,\u001b[49m\n\u001b[1;32m    795\u001b[0m \u001b[43m    \u001b[49m\u001b[43mmaximize\u001b[49m\u001b[38;5;241;43m=\u001b[39;49m\u001b[43mmaximize\u001b[49m\u001b[43m,\u001b[49m\n\u001b[1;32m    796\u001b[0m \u001b[43m    \u001b[49m\u001b[43mcapturable\u001b[49m\u001b[38;5;241;43m=\u001b[39;49m\u001b[43mcapturable\u001b[49m\u001b[43m,\u001b[49m\n\u001b[1;32m    797\u001b[0m \u001b[43m    \u001b[49m\u001b[43mdifferentiable\u001b[49m\u001b[38;5;241;43m=\u001b[39;49m\u001b[43mdifferentiable\u001b[49m\u001b[43m,\u001b[49m\n\u001b[1;32m    798\u001b[0m \u001b[43m    \u001b[49m\u001b[43mgrad_scale\u001b[49m\u001b[38;5;241;43m=\u001b[39;49m\u001b[43mgrad_scale\u001b[49m\u001b[43m,\u001b[49m\n\u001b[1;32m    799\u001b[0m \u001b[43m    \u001b[49m\u001b[43mfound_inf\u001b[49m\u001b[38;5;241;43m=\u001b[39;49m\u001b[43mfound_inf\u001b[49m\u001b[43m,\u001b[49m\n\u001b[1;32m    800\u001b[0m \u001b[43m    \u001b[49m\u001b[43mhas_complex\u001b[49m\u001b[38;5;241;43m=\u001b[39;49m\u001b[43mhas_complex\u001b[49m\u001b[43m,\u001b[49m\n\u001b[1;32m    801\u001b[0m \u001b[43m\u001b[49m\u001b[43m)\u001b[49m\n",
      "File \u001b[0;32m~/anaconda3/envs/myenv/lib/python3.10/site-packages/torch/optim/adamw.py:534\u001b[0m, in \u001b[0;36m_multi_tensor_adamw\u001b[0;34m(params, grads, exp_avgs, exp_avg_sqs, max_exp_avg_sqs, state_steps, grad_scale, found_inf, amsgrad, beta1, beta2, lr, weight_decay, eps, maximize, capturable, differentiable, has_complex)\u001b[0m\n\u001b[1;32m    531\u001b[0m torch\u001b[38;5;241m.\u001b[39m_foreach_lerp_(device_exp_avgs, device_grads, \u001b[38;5;241m1\u001b[39m \u001b[38;5;241m-\u001b[39m beta1)\n\u001b[1;32m    533\u001b[0m torch\u001b[38;5;241m.\u001b[39m_foreach_mul_(device_exp_avg_sqs, beta2)\n\u001b[0;32m--> 534\u001b[0m \u001b[43mtorch\u001b[49m\u001b[38;5;241;43m.\u001b[39;49m\u001b[43m_foreach_addcmul_\u001b[49m\u001b[43m(\u001b[49m\n\u001b[1;32m    535\u001b[0m \u001b[43m    \u001b[49m\u001b[43mdevice_exp_avg_sqs\u001b[49m\u001b[43m,\u001b[49m\u001b[43m \u001b[49m\u001b[43mdevice_grads\u001b[49m\u001b[43m,\u001b[49m\u001b[43m \u001b[49m\u001b[43mdevice_grads\u001b[49m\u001b[43m,\u001b[49m\u001b[43m \u001b[49m\u001b[38;5;241;43m1\u001b[39;49m\u001b[43m \u001b[49m\u001b[38;5;241;43m-\u001b[39;49m\u001b[43m \u001b[49m\u001b[43mbeta2\u001b[49m\n\u001b[1;32m    536\u001b[0m \u001b[43m\u001b[49m\u001b[43m)\u001b[49m\n\u001b[1;32m    538\u001b[0m \u001b[38;5;66;03m# Delete the local intermediate since it won't be used anymore to save on peak memory\u001b[39;00m\n\u001b[1;32m    539\u001b[0m \u001b[38;5;28;01mdel\u001b[39;00m device_grads\n",
      "\u001b[0;31mKeyboardInterrupt\u001b[0m: "
     ]
    }
   ],
   "source": [
    "best_val_acc = 0.0\n",
    "for epoch in tqdm(range(NUM_EPOCHS), desc=\"Обучение\"):\n",
    "    train_loss, train_acc = train(model_2, train_loader, optimizer, criterion, DEVICE)\n",
    "    val_loss, val_acc = evaluate(model_2, val_loader, criterion, DEVICE)\n",
    "\n",
    "    if val_acc > best_val_acc:\n",
    "        best_val_acc = val_acc\n",
    "        torch.save(model_2.state_dict(), f\"best_audio_{MODEL_TYPE}.pth\")\n",
    "\n",
    "    print(f\"Epoch {epoch+1}: \"\n",
    "          f\"Train Loss={train_loss:.4f}, Acc={train_acc:.4f} | \"\n",
    "          f\"Val Loss={val_loss:.4f}, Acc={val_acc:.4f}\")\n",
    "\n",
    "print(f\"✅ Обучение {MODEL_TYPE.upper()} завершено. \"\n",
    "      f\"Лучшая модель сохранена в best_audio_{MODEL_TYPE}.pth\")\n"
   ]
  },
  {
   "cell_type": "code",
   "execution_count": 70,
   "id": "ce5254a4-681e-4715-a26c-5b3826c1a94e",
   "metadata": {},
   "outputs": [
    {
     "name": "stderr",
     "output_type": "stream",
     "text": [
      "/tmp/ipykernel_10279/148902708.py:2: UserWarning: To copy construct from a tensor, it is recommended to use sourceTensor.clone().detach() or sourceTensor.clone().detach().requires_grad_(True), rather than torch.tensor(sourceTensor).\n",
      "  xs = [torch.tensor(item[0], dtype=torch.float32).squeeze() for item in batch]\n"
     ]
    },
    {
     "data": {
      "image/png": "[encoded data removed]",
      "text/plain": [
       "<Figure size 640x480 with 2 Axes>"
      ]
     },
     "metadata": {},
     "output_type": "display_data"
    }
   ],
   "source": [
    "all_preds = []\n",
    "all_labels = []\n",
    "\n",
    "model_2.eval()\n",
    "with torch.no_grad():\n",
    "    for x, y in val_loader:\n",
    "        x = x.to(DEVICE)\n",
    "        outputs = model_2(x)\n",
    "        preds = outputs.argmax(dim=1).cpu().numpy()\n",
    "        all_preds.extend(preds)\n",
    "        all_labels.extend(y.numpy())\n",
    "\n",
    "# Матрица ошибок\n",
    "cm = confusion_matrix(all_labels, all_preds)\n",
    "disp = ConfusionMatrixDisplay(confusion_matrix=cm)\n",
    "disp.plot(cmap=\"Blues\", values_format='d')\n",
    "plt.title(\"Confusion Matrix (Validation Set)\")\n",
    "plt.show()"
   ]
  },
  {
   "cell_type": "markdown",
   "id": "3f354d17-5a8b-4a79-aa17-645e5befa3e4",
   "metadata": {},
   "source": [
    "### Трансформер показал похожие цифры со сверткой, но оченьние занимает в 3 раза большще времени."
   ]
  },
  {
   "cell_type": "code",
   "execution_count": null,
   "id": "c1464701-0255-4a0f-b0f0-71f2bdde0e07",
   "metadata": {},
   "outputs": [],
   "source": []
  },
  {
   "cell_type": "code",
   "execution_count": 24,
   "id": "991be2fa-86cc-492e-83c2-04a9e1410544",
   "metadata": {},
   "outputs": [],
   "source": [
    "def plot_confusion_matrix(y_true, y_pred, title=\"Confusion Matrix\"):\n",
    "    cm = confusion_matrix(y_true, y_pred)\n",
    "    plt.figure(figsize=(8, 6))\n",
    "    sns.heatmap(cm, annot=True, fmt=\"d\", cmap=\"Blues\")\n",
    "    plt.title(title)\n",
    "    plt.xlabel(\"Predicted\")\n",
    "    plt.ylabel(\"True\")\n",
    "    plt.show()"
   ]
  },
  {
   "cell_type": "code",
   "execution_count": 25,
   "id": "d4bac636-3632-4d26-b1f9-81471c1498ce",
   "metadata": {},
   "outputs": [],
   "source": [
    "def load_features_and_labels_fixed_len(file_label_pairs, max_len=200):\n",
    "    X = []\n",
    "    y = []\n",
    "\n",
    "    for path, label in file_label_pairs:\n",
    "        try:\n",
    "            features = np.load(path)  # (time, n_mfcc)\n",
    "            if features.shape[0] > max_len:\n",
    "                features = features[:max_len, :]\n",
    "            else:\n",
    "                pad_width = max_len - features.shape[0]\n",
    "                features = np.pad(features, ((0, pad_width), (0,0)), mode='constant')\n",
    "            X.append(features.flatten())\n",
    "            y.append(label)\n",
    "        except Exception as e:\n",
    "            print(f\"Ошибка при обработке {path}: {e}\")\n",
    "\n",
    "    return np.array(X), np.array(y)"
   ]
  },
  {
   "cell_type": "code",
   "execution_count": 20,
   "id": "9b8e91bf-e7e1-4481-87c5-bb81711fd934",
   "metadata": {},
   "outputs": [
    {
     "name": "stdout",
     "output_type": "stream",
     "text": [
      "X_train shape: (20788, 8000)\n",
      "Size in MB: 634.3994140625\n"
     ]
    }
   ],
   "source": [
    "X_train, y_train = load_features_and_labels_fixed_len(train_list, max_len=200)\n",
    "print(\"X_train shape:\", X_train.shape)\n",
    "print(\"Size in MB:\", X_train.nbytes / 1024**2)\n"
   ]
  },
  {
   "cell_type": "code",
   "execution_count": 21,
   "id": "95d806ac-bb3d-407a-b74b-2f9ed0456ce2",
   "metadata": {},
   "outputs": [
    {
     "name": "stdout",
     "output_type": "stream",
     "text": [
      "X_val shape: (5197, 8000)\n",
      "Size in MB: 158.599853515625\n"
     ]
    }
   ],
   "source": [
    "X_val, y_val = load_features_and_labels_fixed_len(val_list, max_len=200)\n",
    "print(\"X_val shape:\", X_val.shape)\n",
    "print(\"Size in MB:\", X_val.nbytes / 1024**2)"
   ]
  },
  {
   "cell_type": "code",
   "execution_count": 22,
   "id": "5caeebe2-f3a5-4ec8-98d8-3b01f4360aab",
   "metadata": {},
   "outputs": [
    {
     "name": "stdout",
     "output_type": "stream",
     "text": [
      "X_train shape: (20788, 8000)\n",
      "y_train shape: (20788,)\n",
      "X_train shape: (5197, 8000)\n",
      "y_train shape: (5197,)\n"
     ]
    }
   ],
   "source": [
    "print(\"X_train shape:\", np.shape(X_train))\n",
    "print(\"y_train shape:\", np.shape(y_train))\n",
    "print(\"X_train shape:\", np.shape(X_val))\n",
    "print(\"y_train shape:\", np.shape(y_val))"
   ]
  },
  {
   "cell_type": "code",
   "execution_count": null,
   "id": "f1c54210-ec5c-4870-90ba-a8e9a9c5bd92",
   "metadata": {},
   "outputs": [],
   "source": []
  },
  {
   "cell_type": "code",
   "execution_count": 26,
   "id": "273db275-ec33-4ce1-aa40-dab53b8910f3",
   "metadata": {},
   "outputs": [
    {
     "name": "stdout",
     "output_type": "stream",
     "text": [
      "RandomForest results:\n",
      "               precision    recall  f1-score   support\n",
      "\n",
      "           0       0.84      0.67      0.75      2091\n",
      "           1       0.80      0.91      0.86      3106\n",
      "\n",
      "    accuracy                           0.82      5197\n",
      "   macro avg       0.82      0.79      0.80      5197\n",
      "weighted avg       0.82      0.82      0.81      5197\n",
      "\n"
     ]
    },
    {
     "data": {
      "image/png": "[encoded data removed]",
      "text/plain": [
       "<Figure size 640x480 with 2 Axes>"
      ]
     },
     "metadata": {},
     "output_type": "display_data"
    },
    {
     "name": "stderr",
     "output_type": "stream",
     "text": [
      "/home/saatarko/anaconda3/envs/myenv/lib/python3.10/site-packages/xgboost/training.py:183: UserWarning: [11:45:21] WARNING: /croot/xgboost-split_1749630910898/work/src/learner.cc:738: \n",
      "Parameters: { \"use_label_encoder\" } are not used.\n",
      "\n",
      "  bst.update(dtrain, iteration=i, fobj=obj)\n"
     ]
    },
    {
     "name": "stdout",
     "output_type": "stream",
     "text": [
      "XGBoost results:\n",
      "               precision    recall  f1-score   support\n",
      "\n",
      "           0       0.82      0.72      0.76      2091\n",
      "           1       0.82      0.89      0.86      3106\n",
      "\n",
      "    accuracy                           0.82      5197\n",
      "   macro avg       0.82      0.81      0.81      5197\n",
      "weighted avg       0.82      0.82      0.82      5197\n",
      "\n"
     ]
    },
    {
     "data": {
      "image/png": "[encoded data removed]",
      "text/plain": [
       "<Figure size 640x480 with 2 Axes>"
      ]
     },
     "metadata": {},
     "output_type": "display_data"
    }
   ],
   "source": [
    "# Random Forest\n",
    "rf = RandomForestClassifier(n_estimators=100, random_state=42)\n",
    "rf.fit(X_train, y_train)\n",
    "y_pred_rf = rf.predict(X_val)\n",
    "print(\"RandomForest results:\\n\", classification_report(y_val, y_pred_rf))\n",
    "\n",
    "ConfusionMatrixDisplay(confusion_matrix(y_val, y_pred_rf)).plot()\n",
    "plt.title(\"Random Forest Confusion Matrix\")\n",
    "plt.show()\n",
    "\n",
    "# XGBoost\n",
    "xgb = XGBClassifier(n_estimators=100, use_label_encoder=False, eval_metric='mlogloss')\n",
    "xgb.fit(X_train, y_train)\n",
    "y_pred_xgb = xgb.predict(X_val)\n",
    "print(\"XGBoost results:\\n\", classification_report(y_val, y_pred_xgb))\n",
    "\n",
    "ConfusionMatrixDisplay(confusion_matrix(y_val, y_pred_xgb)).plot()\n",
    "plt.title(\"XGBoost Confusion Matrix\")\n",
    "plt.show()"
   ]
  },
  {
   "cell_type": "code",
   "execution_count": 42,
   "id": "810cd5c5-0343-48a7-b08f-9ea347b00745",
   "metadata": {},
   "outputs": [],
   "source": [
    "device = \"cuda\" if torch.cuda.is_available() else \"cpu\"\n",
    "NUM_CLASSES = 2  # изменить при необходимости\n",
    "BATCH_SIZE = 16\n",
    "EPOCHS = 10\n",
    "LR = 1e-4\n"
   ]
  },
  {
   "cell_type": "code",
   "execution_count": 34,
   "id": "cf29df25-9c32-4499-a156-85dcf2287d8b",
   "metadata": {},
   "outputs": [],
   "source": [
    "# ==== Dataset ====\n",
    "class NPYDataset(Dataset):\n",
    "    def __init__(self, file_label_list):\n",
    "        self.data = file_label_list\n",
    "\n",
    "    def __len__(self):\n",
    "        return len(self.data)\n",
    "\n",
    "    def __getitem__(self, idx):\n",
    "        path, label = self.data[idx]\n",
    "        x = np.load(path)  # (1, mel, time)\n",
    "        return torch.tensor(x, dtype=torch.float32), torch.tensor(label)\n",
    "\n",
    "# ==== Модель ====\n",
    "class PANNFinetune(nn.Module):\n",
    "    def __init__(self, base_model, num_classes):\n",
    "        super().__init__()\n",
    "        self.base = base_model\n",
    "        self.classifier = nn.Linear(2048, num_classes)  # Выход Cnn14\n",
    "\n",
    "    def forward(self, x):\n",
    "        with torch.no_grad():\n",
    "            features = self.base.forward(x, None)['embedding']\n",
    "        return self.classifier(features)"
   ]
  },
  {
   "cell_type": "code",
   "execution_count": 44,
   "id": "0a2cc95d-1790-4cd9-803f-1c415536e68b",
   "metadata": {},
   "outputs": [],
   "source": [
    "def pad_collate(batch):\n",
    "    \"\"\"Batch: список из (tensor, label)\"\"\"\n",
    "    tensors, labels = zip(*batch)\n",
    "    \n",
    "    # Найти максимальную длину\n",
    "    max_len = max(tensor.shape[2] for tensor in tensors)\n",
    "\n",
    "    # Паддинг\n",
    "    padded_tensors = []\n",
    "    for tensor in tensors:\n",
    "        pad_len = max_len - tensor.shape[2]\n",
    "        padded_tensor = F.pad(tensor, (0, pad_len), mode='constant', value=0)\n",
    "        padded_tensors.append(padded_tensor)\n",
    "\n",
    "    return torch.stack(padded_tensors), torch.tensor(labels)"
   ]
  },
  {
   "cell_type": "code",
   "execution_count": 45,
   "id": "a8eb48e4-5011-4be6-a282-8b4861f2c876",
   "metadata": {},
   "outputs": [],
   "source": [
    "train_dataset = NPYDataset(train_list)\n",
    "val_dataset = NPYDataset(val_list)\n",
    "\n",
    "train_loader = DataLoader(train_dataset, batch_size=1, shuffle=True, collate_fn=pad_collate)\n",
    "val_loader = DataLoader(val_dataset, batch_size=1, shuffle=False, collate_fn=pad_collate)"
   ]
  },
  {
   "cell_type": "code",
   "execution_count": 48,
   "id": "1c646286-0a1d-4d05-b48f-802ad3783ed8",
   "metadata": {},
   "outputs": [
    {
     "name": "stderr",
     "output_type": "stream",
     "text": [
      "Обучение:  10%|█████████████████████████▎                                                                                                                                                                                                                                   | 1/10 [00:55<08:23, 55.99s/it]"
     ]
    },
    {
     "name": "stdout",
     "output_type": "stream",
     "text": [
      "Epoch 1/10, Loss: 0.2041, Accuracy: 0.9133\n"
     ]
    },
    {
     "name": "stderr",
     "output_type": "stream",
     "text": [
      "Обучение:  20%|██████████████████████████████████████████████████▌                                                                                                                                                                                                          | 2/10 [01:51<07:25, 55.66s/it]"
     ]
    },
    {
     "name": "stdout",
     "output_type": "stream",
     "text": [
      "Epoch 2/10, Loss: 0.1991, Accuracy: 0.9151\n"
     ]
    },
    {
     "name": "stderr",
     "output_type": "stream",
     "text": [
      "Обучение:  30%|███████████████████████████████████████████████████████████████████████████▉                                                                                                                                                                                 | 3/10 [02:52<06:47, 58.27s/it]"
     ]
    },
    {
     "name": "stdout",
     "output_type": "stream",
     "text": [
      "Epoch 3/10, Loss: 0.1928, Accuracy: 0.9199\n"
     ]
    },
    {
     "name": "stderr",
     "output_type": "stream",
     "text": [
      "Обучение:  40%|█████████████████████████████████████████████████████████████████████████████████████████████████████▏                                                                                                                                                       | 4/10 [03:47<05:42, 57.01s/it]"
     ]
    },
    {
     "name": "stdout",
     "output_type": "stream",
     "text": [
      "Epoch 4/10, Loss: 0.1885, Accuracy: 0.9181\n"
     ]
    },
    {
     "name": "stderr",
     "output_type": "stream",
     "text": [
      "Обучение:  50%|██████████████████████████████████████████████████████████████████████████████████████████████████████████████████████████████▌                                                                                                                              | 5/10 [04:44<04:44, 56.90s/it]"
     ]
    },
    {
     "name": "stdout",
     "output_type": "stream",
     "text": [
      "Epoch 5/10, Loss: 0.1844, Accuracy: 0.9236\n"
     ]
    },
    {
     "name": "stderr",
     "output_type": "stream",
     "text": [
      "Обучение:  60%|███████████████████████████████████████████████████████████████████████████████████████████████████████████████████████████████████████████████████████▊                                                                                                     | 6/10 [05:41<03:47, 56.83s/it]"
     ]
    },
    {
     "name": "stdout",
     "output_type": "stream",
     "text": [
      "Epoch 6/10, Loss: 0.1788, Accuracy: 0.9244\n"
     ]
    },
    {
     "name": "stderr",
     "output_type": "stream",
     "text": [
      "Обучение:  70%|█████████████████████████████████████████████████████████████████████████████████████████████████████████████████████████████████████████████████████████████████████████████████                                                                            | 7/10 [06:39<02:51, 57.25s/it]"
     ]
    },
    {
     "name": "stdout",
     "output_type": "stream",
     "text": [
      "Epoch 7/10, Loss: 0.1751, Accuracy: 0.9240\n"
     ]
    },
    {
     "name": "stderr",
     "output_type": "stream",
     "text": [
      "Обучение:  80%|██████████████████████████████████████████████████████████████████████████████████████████████████████████████████████████████████████████████████████████████████████████████████████████████████████████▍                                                  | 8/10 [07:36<01:54, 57.05s/it]"
     ]
    },
    {
     "name": "stdout",
     "output_type": "stream",
     "text": [
      "Epoch 8/10, Loss: 0.1694, Accuracy: 0.9279\n"
     ]
    },
    {
     "name": "stderr",
     "output_type": "stream",
     "text": [
      "Обучение:  90%|███████████████████████████████████████████████████████████████████████████████████████████████████████████████████████████████████████████████████████████████████████████████████████████████████████████████████████████████████▋                         | 9/10 [08:31<00:56, 56.66s/it]"
     ]
    },
    {
     "name": "stdout",
     "output_type": "stream",
     "text": [
      "Epoch 9/10, Loss: 0.1657, Accuracy: 0.9307\n"
     ]
    },
    {
     "name": "stderr",
     "output_type": "stream",
     "text": [
      "Обучение: 100%|████████████████████████████████████████████████████████████████████████████████████████████████████████████████████████████████████████████████████████████████████████████████████████████████████████████████████████████████████████████████████████████| 10/10 [09:29<00:00, 56.98s/it]"
     ]
    },
    {
     "name": "stdout",
     "output_type": "stream",
     "text": [
      "Epoch 10/10, Loss: 0.1614, Accuracy: 0.9320\n",
      "⏱️ Training took 9.50 minutes\n"
     ]
    },
    {
     "name": "stderr",
     "output_type": "stream",
     "text": [
      "\n"
     ]
    }
   ],
   "source": [
    "\n",
    "optimizer = optim.Adam(model.parameters(), lr=LR)\n",
    "loss_fn = nn.CrossEntropyLoss()\n",
    "\n",
    "start_time = time.time()\n",
    "for epoch in tqdm(range(EPOCHS), desc=\"Обучение\"):\n",
    "    loss, acc = train(model, train_loader, optimizer, loss_fn, device)\n",
    "    print(f\"Epoch {epoch+1}/{EPOCHS}, Loss: {loss:.4f}, Accuracy: {acc:.4f}\")\n",
    "\n",
    "total_time = time.time() - start_time\n",
    "print(f\"⏱️ Training took {total_time/60:.2f} minutes\")\n",
    "\n",
    "\n"
   ]
  },
  {
   "cell_type": "code",
   "execution_count": 50,
   "id": "7010050d-c7a7-4206-bd6e-20fe32ece115",
   "metadata": {},
   "outputs": [],
   "source": [
    "def evaluate_pred(model, dataloader, loss_fn, device):\n",
    "    model.eval()\n",
    "    y_true, y_pred = [], []\n",
    "\n",
    "    with torch.no_grad():\n",
    "        for X, y in dataloader:\n",
    "            X, y = X.to(device), y.to(device)\n",
    "            outputs = model(X)\n",
    "            preds = torch.argmax(outputs, dim=1)\n",
    "            y_pred.extend(preds.cpu().numpy())\n",
    "            y_true.extend(y.cpu().numpy())\n",
    "\n",
    "    return y_pred, y_true"
   ]
  },
  {
   "cell_type": "code",
   "execution_count": 53,
   "id": "ca0bea27-cafd-4d5d-86da-e5d68f8591ae",
   "metadata": {},
   "outputs": [
    {
     "name": "stdout",
     "output_type": "stream",
     "text": [
      "\n",
      "Classification Report:\n",
      "               precision    recall  f1-score   support\n",
      "\n",
      "           0       0.92      0.85      0.88      2091\n",
      "           1       0.90      0.95      0.93      3106\n",
      "\n",
      "    accuracy                           0.91      5197\n",
      "   macro avg       0.91      0.90      0.90      5197\n",
      "weighted avg       0.91      0.91      0.91      5197\n",
      "\n"
     ]
    },
    {
     "data": {
      "image/png": "[encoded data removed]",
      "text/plain": [
       "<Figure size 600x400 with 2 Axes>"
      ]
     },
     "metadata": {},
     "output_type": "display_data"
    }
   ],
   "source": [
    "# ==== Оценка ====\n",
    "y_pred, y_true = evaluate_pred(model, val_loader, criterion, device)\n",
    "print(\"\\nClassification Report:\\n\", classification_report(y_true, y_pred))\n",
    "\n",
    "# ==== Матрица ошибок ====\n",
    "plt.figure(figsize=(6, 4))\n",
    "sns.heatmap(confusion_matrix(y_true, y_pred), annot=True, fmt=\"d\", cmap=\"Blues\")\n",
    "plt.xlabel(\"Predicted\")\n",
    "plt.ylabel(\"True\")\n",
    "plt.title(\"Confusion Matrix\")\n",
    "plt.show()"
   ]
  },
  {
   "cell_type": "markdown",
   "id": "cac2b11b-af97-4302-9613-7fd0183f7570",
   "metadata": {},
   "source": [
    "| Модель                      | Точность | Время обучения | Комментарии                                    |\n",
    "|----------------------------|----------|----------------|-----------------------------------------------|\n",
    "| Простая CNN (свёртка)       | 0.89     | 30 минут       | Лучший баланс точности и простоты подготовки  |\n",
    "| LSTM + attention            | 0.85     | ~3 часа        | Длинное обучение, требуется нормализация и паддинг |\n",
    "| RandomForestClassifier      | 0.82     | 10 минут       | Быстрое обучение, но точность ниже CNN        |\n",
    "| XGBClassifier              | 0.82     | 10 минут       | Аналогично RandomForest, чуть сложнее настройка |\n",
    "| Предобученная CNN (PANNs)  | 0.91     | 20 минут       | Лучший результат по точности, быстрое обучение|\n"
   ]
  },
  {
   "cell_type": "markdown",
   "id": "fdb01189-0468-4386-a38b-8b38101bebbc",
   "metadata": {},
   "source": [
    "# Выводы: свертка выдает более высокие результаты, преообученная модель чтуьв ыше по точности и чуть быстрее. Но требуется подстройка под структуру данных"
   ]
  }
 ],
 "metadata": {
  "kernelspec": {
   "display_name": "Python 3 (ipykernel)",
   "language": "python",
   "name": "python3"
  },
  "language_info": {
   "codemirror_mode": {
    "name": "ipython",
    "version": 3
   },
   "file_extension": ".py",
   "mimetype": "text/x-python",
   "name": "python",
   "nbconvert_exporter": "python",
   "pygments_lexer": "ipython3",
   "version": "3.10.18"
  },
  "widgets": {
   "application/vnd.jupyter.widget-state+json": {
    "state": {},
    "version_major": 2,
    "version_minor": 0
   }
  }
 },
 "nbformat": 4,
 "nbformat_minor": 5
}
